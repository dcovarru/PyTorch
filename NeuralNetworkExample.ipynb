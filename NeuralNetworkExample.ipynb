{
  "nbformat": 4,
  "nbformat_minor": 0,
  "metadata": {
    "colab": {
      "name": "NeuralNetworkExample.ipynb",
      "provenance": [],
      "collapsed_sections": [],
      "authorship_tag": "ABX9TyNroL1rr2eITuewz4dNLTi6",
      "include_colab_link": true
    },
    "kernelspec": {
      "name": "python3",
      "display_name": "Python 3"
    }
  },
  "cells": [
    {
      "cell_type": "markdown",
      "metadata": {
        "id": "view-in-github",
        "colab_type": "text"
      },
      "source": [
        "<a href=\"https://colab.research.google.com/github/dcovarru/PyTorch/blob/master/NeuralNetworkExample.ipynb\" target=\"_parent\"><img src=\"https://colab.research.google.com/assets/colab-badge.svg\" alt=\"Open In Colab\"/></a>"
      ]
    },
    {
      "cell_type": "code",
      "metadata": {
        "id": "9-hbh5bGUHjX",
        "colab_type": "code",
        "colab": {}
      },
      "source": [
        "#############################\n",
        "# A Simple Neural Network\n",
        "# to demonstrate functionality\n",
        "# Inspired by: https://towardsdatascience.com/first-neural-network-for-beginners-explained-with-code-4cfd37e06eaf\n",
        "#############################"
      ],
      "execution_count": 0,
      "outputs": []
    },
    {
      "cell_type": "code",
      "metadata": {
        "id": "enDrUmlAaiM8",
        "colab_type": "code",
        "colab": {}
      },
      "source": [
        "import numpy, random, os\n",
        "lr = 1 #learning rate\n",
        "bias = 1 #value of bias\n",
        "weights = [random.random(),random.random(),random.random()] #weights generated in a list (3 weights in total for 2 neurons and the bias)"
      ],
      "execution_count": 0,
      "outputs": []
    },
    {
      "cell_type": "code",
      "metadata": {
        "id": "QvnUQ8u9a89R",
        "colab_type": "code",
        "colab": {}
      },
      "source": [
        "def Perceptron(input1, input2, output) :\n",
        "   outputP = input1*weights[0]+input2*weights[1]+bias*weights[2]\n",
        "   if outputP > 0 : #activation function (here Heaviside)\n",
        "      outputP = 1\n",
        "   else :\n",
        "      outputP = 0\n",
        "   error = output - outputP\n",
        "   weights[0] += error * input1 * lr\n",
        "   weights[1] += error * input2 * lr\n",
        "   weights[2] += error * bias * lr"
      ],
      "execution_count": 0,
      "outputs": []
    },
    {
      "cell_type": "code",
      "metadata": {
        "id": "HUdQ6r32bMWl",
        "colab_type": "code",
        "colab": {}
      },
      "source": [
        "for i in range(50) :\n",
        "   Perceptron(1,1,1) #True or true\n",
        "   Perceptron(1,0,1) #True or false\n",
        "   Perceptron(0,1,1) #False or true\n",
        "   Perceptron(0,0,0) #False or false"
      ],
      "execution_count": 0,
      "outputs": []
    },
    {
      "cell_type": "code",
      "metadata": {
        "id": "A4oJRLpnfNvC",
        "colab_type": "code",
        "colab": {}
      },
      "source": [
        "x = int(input())\n",
        "y = int(input())\n",
        "outputP = x*weights[0] + y*weights[1] + bias*weights[2]\n",
        "if outputP > 0 : #activation function\n",
        "   outputP = 1\n",
        "else :\n",
        "   outputP = 0\n",
        "print(x, \"or\", y, \"is : \", outputP)"
      ],
      "execution_count": 0,
      "outputs": []
    }
  ]
}