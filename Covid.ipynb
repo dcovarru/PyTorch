{
  "nbformat": 4,
  "nbformat_minor": 0,
  "metadata": {
    "colab": {
      "name": "Untitled4.ipynb",
      "provenance": [],
      "authorship_tag": "ABX9TyOW7WgihW1uphBZeosvwpcS",
      "include_colab_link": true
    },
    "kernelspec": {
      "name": "python3",
      "display_name": "Python 3"
    }
  },
  "cells": [
    {
      "cell_type": "markdown",
      "metadata": {
        "id": "view-in-github",
        "colab_type": "text"
      },
      "source": [
        "<a href=\"https://colab.research.google.com/github/dcovarru/PyTorch/blob/master/Covid.ipynb\" target=\"_parent\"><img src=\"https://colab.research.google.com/assets/colab-badge.svg\" alt=\"Open In Colab\"/></a>"
      ]
    },
    {
      "cell_type": "code",
      "metadata": {
        "id": "kPgxs-YXaoG2",
        "colab_type": "code",
        "colab": {}
      },
      "source": [
        "#####################\n",
        "# Import packages\n",
        "#####################\n",
        "\n"
      ],
      "execution_count": 0,
      "outputs": []
    },
    {
      "cell_type": "code",
      "metadata": {
        "id": "yIV48hAs49Dw",
        "colab_type": "code",
        "colab": {}
      },
      "source": [
        "#####################\n",
        "# Import NYT data \n",
        "#####################"
      ],
      "execution_count": 0,
      "outputs": []
    }
  ]
}